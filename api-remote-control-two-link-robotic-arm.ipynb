{
 "cells": [
  {
   "cell_type": "markdown",
   "id": "35eb135d",
   "metadata": {},
   "source": [
    "## Controlling a two-link robotic arm from Python using zqmRemoteApi"
   ]
  },
  {
   "cell_type": "code",
   "execution_count": 1,
   "id": "850eba3a",
   "metadata": {},
   "outputs": [],
   "source": [
    "# Import standard libraries\n",
    "import zmqRemoteApi\n",
    "import numpy as np"
   ]
  },
  {
   "cell_type": "code",
   "execution_count": 2,
   "id": "1b5c2c76",
   "metadata": {},
   "outputs": [],
   "source": [
    "# Create a client to get connected to the zmqremoteApi sernver from CoppeliaSim\n",
    "client = zmqRemoteApi.RemoteAPIClient()\n",
    "\n",
    "# Get the remote object 'sim'\n",
    "sim = client.getObject('sim')\n",
    "\n",
    "# Call a function of the API\n",
    "base_id = sim.getObject('/Base')"
   ]
  },
  {
   "cell_type": "code",
   "execution_count": 3,
   "id": "dac03762",
   "metadata": {},
   "outputs": [
    {
     "name": "stdout",
     "output_type": "stream",
     "text": [
      "15\n"
     ]
    }
   ],
   "source": [
    "print(base_id)"
   ]
  },
  {
   "cell_type": "code",
   "execution_count": 4,
   "id": "3360deb2",
   "metadata": {},
   "outputs": [],
   "source": [
    "# Get IDs of each component of the 2D robotic arm\n",
    "joint1 = sim.getObject('/Base/Joint1')\n",
    "link1  = sim.getObject('/Base/Link1')\n",
    "joint2 = sim.getObject('/Base/Joint2')\n",
    "link2  = sim.getObject('/Base/Link2')\n",
    "dummy  = sim.getObject('/Base/Dummy')"
   ]
  },
  {
   "cell_type": "code",
   "execution_count": 5,
   "id": "2a4ed3c0",
   "metadata": {},
   "outputs": [
    {
     "name": "stdout",
     "output_type": "stream",
     "text": [
      "joint1's ID: 16\n",
      "link1's ID: 17\n",
      "Joint2's ID: 18\n",
      "link2's ID: 19\n"
     ]
    }
   ],
   "source": [
    "# Print IDs\n",
    "print(f\"joint1's ID: {joint1}\")\n",
    "print(f\"link1's ID: {link1}\")\n",
    "print(f\"Joint2's ID: {joint2}\")\n",
    "print(f\"link2's ID: {link2}\")\n",
    "\n"
   ]
  },
  {
   "cell_type": "code",
   "execution_count": 9,
   "id": "c0fdee5b",
   "metadata": {},
   "outputs": [
    {
     "data": {
      "text/plain": [
       "1"
      ]
     },
     "execution_count": 9,
     "metadata": {},
     "output_type": "execute_result"
    }
   ],
   "source": [
    "sim.startSimulation()"
   ]
  },
  {
   "cell_type": "code",
   "execution_count": 10,
   "id": "75169f43",
   "metadata": {},
   "outputs": [
    {
     "data": {
      "text/plain": [
       "1"
      ]
     },
     "execution_count": 10,
     "metadata": {},
     "output_type": "execute_result"
    }
   ],
   "source": [
    "# Rotate joint1\n",
    "theta = np.deg2rad(45)\n",
    "sim.setJointTargetPosition(joint1, theta)"
   ]
  },
  {
   "cell_type": "code",
   "execution_count": 11,
   "id": "ba37ba87",
   "metadata": {},
   "outputs": [
    {
     "data": {
      "text/plain": [
       "1"
      ]
     },
     "execution_count": 11,
     "metadata": {},
     "output_type": "execute_result"
    }
   ],
   "source": [
    "# Rotate joint2\n",
    "theta = np.deg2rad(0)\n",
    "sim.setJointTargetPosition(joint2, theta)"
   ]
  },
  {
   "cell_type": "code",
   "execution_count": 12,
   "id": "1ac0acde",
   "metadata": {},
   "outputs": [
    {
     "name": "stdout",
     "output_type": "stream",
     "text": [
      "[0.49999532103538513, -0.0003045976918656379, -8.381903171539307e-08]\n"
     ]
    }
   ],
   "source": [
    "# Get link1's position\n",
    "print(sim.getObjectPosition(dummy, sim.handle_world))"
   ]
  },
  {
   "cell_type": "code",
   "execution_count": null,
   "id": "56af614d",
   "metadata": {},
   "outputs": [],
   "source": []
  }
 ],
 "metadata": {
  "kernelspec": {
   "display_name": "Python 3 (ipykernel)",
   "language": "python",
   "name": "python3"
  },
  "language_info": {
   "codemirror_mode": {
    "name": "ipython",
    "version": 3
   },
   "file_extension": ".py",
   "mimetype": "text/x-python",
   "name": "python",
   "nbconvert_exporter": "python",
   "pygments_lexer": "ipython3",
   "version": "3.10.6"
  }
 },
 "nbformat": 4,
 "nbformat_minor": 5
}
